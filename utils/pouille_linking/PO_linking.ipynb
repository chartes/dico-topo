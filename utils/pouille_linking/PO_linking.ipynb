{
 "cells": [
  {
   "cell_type": "code",
   "execution_count": null,
   "id": "4cac7386",
   "metadata": {},
   "outputs": [],
   "source": [
    "import sys\n",
    "import pandas as pd\n",
    "from lxml import etree\n",
    "import re\n",
    "from thefuzz import fuzz\n",
    "\n",
    "print(sys.executable)"
   ]
  },
  {
   "cell_type": "markdown",
   "id": "46ab9fbb",
   "metadata": {},
   "source": [
    "## Preprocessing\n",
    "\n",
    "1. extration des articles à lier et des features utiles dans df\n",
    "2. chargement du référentiel des communes (COG 2011) dans le df main_insee_commune"
   ]
  },
  {
   "cell_type": "code",
   "execution_count": null,
   "id": "3a048358",
   "metadata": {},
   "outputs": [],
   "source": [
    "# Extraction des features de chaque article à lier dans un df\n",
    "\n",
    "xml_file = '../../data/PO_t7/PO_t7.xml'\n",
    "xml_tree = etree.parse(xml_file)\n",
    "\n",
    "data = []\n",
    "\n",
    "i = 0 # compter les articles\n",
    "\n",
    "for article in xml_tree.xpath('//article'):\n",
    "    i+=1\n",
    "    # on ne retient pas les lieux hors France\n",
    "    if article.find('./localisationpa') is not None:\n",
    "        continue\n",
    "    vedettes = article.xpath('./vedette/i')\n",
    "    # on ne retient que la première vedette\n",
    "    vedette = vedettes[0].text if vedettes else ''\n",
    "    \n",
    "    # on ne retient que le premier dpt de localisation\n",
    "    localisationde = article.find('./localisationde')\n",
    "    localisationde = localisationde.text if localisationde is not None else 'none'\n",
    "    \n",
    "    # on ne retient que le premier canton de localisation\n",
    "    localisationca = article.find('./localisationca')\n",
    "    if localisationca is not None:\n",
    "        localisationca = re.search(\n",
    "            r'<localisationca>(.*?)<\\/localisationca>',\n",
    "            etree.tostring(localisationca, encoding=str)\n",
    "        ).group(1)\n",
    "        '''\n",
    "        cases:\n",
    "        - 'c<sup>on</sup> de '\n",
    "        - 'c<sup>on</sup> du '\n",
    "        - 'c<sup>on</sup> d’'\n",
    "        - 'c<sup>on</sup> de la '\n",
    "        - 'c<sup>on</sup> de l’'\n",
    "        - 'c<sup>on</sup> des '\n",
    "        '''\n",
    "        localisationca = re.sub(r\"c<sup>on</sup> (de |d’|de la |du |de l’|des )\", '', localisationca)    \n",
    "    else:\n",
    "        localisationca = 'none'\n",
    "    \n",
    "    #  on ne retient que la première commune de localisation\n",
    "    localisationco = article.find('./localisationco')\n",
    "    if localisationco is not None:\n",
    "        localisationco = re.search(\n",
    "            r'<localisationco>(.*?)<\\/localisationco>',\n",
    "            etree.tostring(localisationco, encoding=str)\n",
    "        ).group(1)            \n",
    "        '''\n",
    "        cases:\n",
    "        - 'c<sup>on</sup> de '\n",
    "        - 'c<sup>on</sup> du '\n",
    "        - 'c<sup>on</sup> d’'\n",
    "        - 'c<sup>on</sup> de la '\n",
    "        - 'c<sup>on</sup> de l’'\n",
    "        - 'c<sup>on</sup> des '\n",
    "        - 'c<sup>nes</sup> de '\n",
    "        - 'c<sup>nes</sup> d’'\n",
    "            '''\n",
    "        localisationco = re.sub(r\"c<sup>ne(s)?</sup> (de |d’|de la |du |de l’|des )\", '', localisationco)\n",
    "        \n",
    "    else: \n",
    "        localisationco = 'none'\n",
    "    \n",
    "    # Extraire le contenu textuel de la balise \"article\"\n",
    "    article_text = ''.join(article.xpath('.//text()'))\n",
    "    \n",
    "    # Nettoyer le texte en supprimant les caractères indésirables (nouvelles lignes, tabulations, etc.)\n",
    "    article_text = article_text.replace('\\n', '').replace('\\t', '').strip()\n",
    "\n",
    "    # on insère tout dans un dictionnaire\n",
    "    data.append({\n",
    "        'old-id': article.get('old-id'),\n",
    "        'vedette': vedette,\n",
    "        'localisationde': localisationde,\n",
    "        'localisationca': localisationca,\n",
    "        'localisationco': localisationco,\n",
    "        'reference': article_text  # Ajouter la colonne \"reference\"\n",
    "    })\n",
    "\n",
    "df = pd.DataFrame(data)\n",
    "\n",
    "'''\n",
    "article : nombre d’articles dans la source => `//article`\n",
    "article_to_link : nombre d’articles à lier (en France) => `//article[not(localisationpa)]`\n",
    "article_commune : nombre d’articles de type commune => `//article[not(localisationpa) and not(localisationco)]`\n",
    "article_loc_com : nombre d’articles localisés dans une commune => `//article[not(localisationpa) and localisationco]`\n",
    "'''\n",
    "report = dict(\n",
    "    article = i,\n",
    "    article_to_link = len(df.index),\n",
    "    article_commune = (df.localisationco == 'none').sum(),\n",
    "    article_loc_com = (df.localisationco != 'none').sum()\n",
    ")    \n",
    "\n",
    "# check\n",
    "[print(k,':',v) for k, v in report.items()]\n",
    "df.iloc[1500:1510, :]"
   ]
  },
  {
   "cell_type": "code",
   "execution_count": null,
   "id": "21a1bdcd",
   "metadata": {},
   "outputs": [],
   "source": [
    "# Ajout du dpt code au df\n",
    "dpt_df = pd.read_csv('departements-region.csv')\n",
    "dpt_dict = dict(zip(dpt_df['dep_name'], dpt_df['num_dep']))\n",
    "\n",
    "# on ajoute notre colonne avec les numéros des départements qui matchent\n",
    "df['dpt_code'] = df['localisationde'].apply(lambda x: dpt_dict.get(x, 'none'))\n",
    "\n",
    "#on renomme et réordonne pour plus de clarté.\n",
    "df = df.rename(columns={'old-id' : 'article_id', 'localisationca' : 'canton_code', 'localisationco_present' : 'nom_commune'})\n",
    "df = df[['article_id', 'vedette', 'localisationde', 'dpt_code', 'canton_code', 'localisationco', 'reference']]\n",
    "\n",
    "df.iloc[1500:1510, :]"
   ]
  },
  {
   "cell_type": "code",
   "execution_count": null,
   "id": "f95e30d1",
   "metadata": {},
   "outputs": [],
   "source": [
    "# Chargement du référentiel des communes\n",
    "# NB. pour Margot fields (on économise de la mémoire) + dtype\n",
    "fields = ['insee_code', 'DEP_id', 'NCCENR']\n",
    "main_insee_commune = pd.read_csv(\"main_insee_commune.tsv\",\n",
    "                                 delimiter='\\t',\n",
    "                                 usecols=fields,\n",
    "                                 dtype={'insee_code': 'string'})\n",
    "main_insee_commune['DEP_id'] = main_insee_commune['DEP_id'].apply(lambda x: x[4:])\n",
    "main_insee_commune.head(5)"
   ]
  },
  {
   "cell_type": "code",
   "execution_count": null,
   "id": "ed95e7f5-63f7-4b38-b688-3643987258b4",
   "metadata": {},
   "outputs": [],
   "source": [
    "# Liste les départements présents pour mieux filtrer quand pas de localisationde\n",
    "dpt_list = df['dpt_code'].unique().tolist()\n",
    "dpt_list.remove(\"none\")\n",
    "dpt_list.sort()\n",
    "print(dpt_list)"
   ]
  },
  {
   "cell_type": "markdown",
   "id": "539680c0",
   "metadata": {},
   "source": [
    "## Liage des articles de type commune"
   ]
  },
  {
   "cell_type": "code",
   "execution_count": null,
   "id": "ba3e793e-7bcf-420c-a9e7-a71c2a973cdb",
   "metadata": {},
   "outputs": [],
   "source": [
    "# df des communes liées (pour décomptes et concaténation dans l’output final relu par OC et SN)\n",
    "linked_communes_df = pd.DataFrame() "
   ]
  },
  {
   "cell_type": "code",
   "execution_count": null,
   "id": "169ad193",
   "metadata": {},
   "outputs": [],
   "source": [
    "# Extraction des articles de type commune (ceux qui n’ont pas de commune de localisation)\n",
    "\n",
    "communes_df = df[df['localisationco'] == 'none']\n",
    "communes_df.iloc[1500:1510, :]\n",
    "#communes_df.shape"
   ]
  },
  {
   "cell_type": "markdown",
   "id": "81ed8f93-8961-4522-a02b-dfd56ec5265a",
   "metadata": {},
   "source": [
    "### Exact match method"
   ]
  },
  {
   "cell_type": "markdown",
   "id": "09178046-8b4c-485c-abb5-4084f5ee1402",
   "metadata": {},
   "source": [
    "#### With dpt"
   ]
  },
  {
   "cell_type": "code",
   "execution_count": null,
   "id": "51241f0a",
   "metadata": {},
   "outputs": [],
   "source": [
    "# liage des communes avec dpt de localisation (dpt/exact match)\n",
    "communes_exact_dpt_df = pd.merge(communes_df,\n",
    "                                 main_insee_commune,\n",
    "                                 how='inner',\n",
    "                                 left_on=['vedette','dpt_code'],\n",
    "                                 right_on = ['NCCENR','DEP_id'])\n",
    "communes_exact_dpt_df = communes_exact_dpt_df.drop(columns=['DEP_id', 'NCCENR'], axis=1)\n",
    "\n",
    "communes_exact_dpt_df['method'] = 'dpt_exact'\n",
    "\n",
    "# actualiser le df des liages réalisés\n",
    "linked_communes_df = pd.concat([linked_communes_df, communes_exact_dpt_df]).drop_duplicates()"
   ]
  },
  {
   "cell_type": "code",
   "execution_count": null,
   "id": "2ac43df1-ced3-491b-b342-c8a928beef7b",
   "metadata": {},
   "outputs": [],
   "source": [
    "# Tests\n",
    "#communes_exact_dpt_df.head(5)\n",
    "communes_exact_dpt_df.shape"
   ]
  },
  {
   "cell_type": "code",
   "execution_count": null,
   "id": "026b613d-565e-4a08-8648-2765638cae39",
   "metadata": {},
   "outputs": [],
   "source": [
    "# des doublons de liage exact match dans un même dpt ?\n",
    "#communes_exact_dpt_df.article_id.duplicated().sum()\n",
    "communes_exact_dpt_df.loc[communes_exact_dpt_df.duplicated(keep=False, subset=['article_id']), :]"
   ]
  },
  {
   "cell_type": "markdown",
   "id": "78081c25-ff84-480d-bef6-8ad3432bd37e",
   "metadata": {},
   "source": [
    "#### Without dpt"
   ]
  },
  {
   "cell_type": "code",
   "execution_count": null,
   "id": "0601c9ea-cab9-48e1-8cf8-0ff839c9f2d6",
   "metadata": {},
   "outputs": [],
   "source": [
    "# liage des communes sans dpt de localisation (nodpt/exact match)\n",
    "communes_exact_nodpt_df = pd.merge(communes_df.loc[communes_df['dpt_code'] == 'none'],\n",
    "                                   main_insee_commune[main_insee_commune.DEP_id.isin(dpt_list)],\n",
    "                                   how='inner',\n",
    "                                   left_on='vedette',\n",
    "                                   right_on = 'NCCENR')\n",
    "communes_exact_nodpt_df = communes_exact_nodpt_df.drop(columns=['DEP_id', 'NCCENR'], axis=1)\n",
    "\n",
    "communes_exact_nodpt_df['method'] = 'nodpt_exact'\n",
    "\n",
    "# actualiser le df des liages réalisés\n",
    "linked_communes_df = pd.concat([linked_communes_df, communes_exact_nodpt_df]).drop_duplicates()"
   ]
  },
  {
   "cell_type": "code",
   "execution_count": null,
   "id": "1b7f9dd1-6dc7-48a2-8f5b-360c485d106e",
   "metadata": {},
   "outputs": [],
   "source": [
    "# Test\n",
    "communes_exact_nodpt_df\n",
    "#linked_communes_df.shape"
   ]
  },
  {
   "cell_type": "code",
   "execution_count": null,
   "id": "c3236547-78d1-46d5-9279-efd31ab0061b",
   "metadata": {},
   "outputs": [],
   "source": [
    "communes_exact_nodpt_df.loc[communes_exact_nodpt_df.duplicated(keep=False, subset=['article_id']), :]"
   ]
  },
  {
   "cell_type": "code",
   "execution_count": null,
   "id": "e711276f-d8d9-485c-9198-bdf2d2369fd5",
   "metadata": {},
   "outputs": [],
   "source": [
    "linked_communes_df['article_id']"
   ]
  },
  {
   "cell_type": "markdown",
   "id": "06689bac-6c71-4062-a05b-2e4ed4897a76",
   "metadata": {},
   "source": [
    "### Fuzzy method"
   ]
  },
  {
   "cell_type": "code",
   "execution_count": null,
   "id": "3c18f078",
   "metadata": {
    "scrolled": true
   },
   "outputs": [],
   "source": [
    "import difflib\n",
    "\n",
    "# Créer un dictionnaire de correspondance entre les NCCENR et les codes INSEE\n",
    "nccenr_to_insee = main_insee_commune.set_index('NCCENR')['insee_code'].to_dict()\n",
    "\n",
    "# Lier les communes avec dpt de localisation (dpt/fuzzy match)\n",
    "communes_fuzzy_dpt_df = communes_df[~communes_df.article_id.isin(linked_communes_df['article_id'])][communes_df.dpt_code != 'none']\n",
    "communes_fuzzy_dpt_df['insee_code'] = communes_fuzzy_dpt_df['vedette']\n",
    "communes_fuzzy_dpt_df['insee_code'] = communes_fuzzy_dpt_df.apply(\n",
    "    lambda x: [f\"{nccenr} ({nccenr_to_insee.get(nccenr, '')})\" for nccenr in difflib.get_close_matches(x['vedette'], main_insee_commune[main_insee_commune['DEP_id'] == x['dpt_code']]['NCCENR'], n=3)],\n",
    "    axis=1\n",
    ")\n",
    "\n",
    "# Sortir les communes non liées\n",
    "communes_fuzzy_dpt_df = communes_fuzzy_dpt_df[communes_fuzzy_dpt_df['insee_code'].map(lambda x: len(x)) > 0]\n",
    "\n",
    "# Concaténer les codes INSEE avec les NCCENR dans la même cellule\n",
    "communes_fuzzy_dpt_df['insee_code'] = communes_fuzzy_dpt_df['insee_code'].apply(lambda x: ', '.join(x))\n",
    "\n",
    "communes_fuzzy_dpt_df['method'] = 'dpt_fuzzy'\n",
    "\n",
    "# Actualiser le df des liages réalisés\n",
    "linked_communes_df = pd.concat([linked_communes_df, communes_fuzzy_dpt_df]).drop_duplicates()\n",
    "\n"
   ]
  },
  {
   "cell_type": "code",
   "execution_count": null,
   "id": "75793e28",
   "metadata": {},
   "outputs": [],
   "source": [
    "# Tests\n",
    "communes_fuzzy_dpt_df.head(20)\n",
    "#linked_communes_df.shape\n",
    "#linked_communes_df"
   ]
  },
  {
   "cell_type": "markdown",
   "id": "44763aaa-ba33-45d8-ade2-a824ebcd75fe",
   "metadata": {},
   "source": [
    "#### With dpt"
   ]
  },
  {
   "cell_type": "markdown",
   "id": "2f8b002a-4cda-4ea9-a91d-4cd608733d51",
   "metadata": {},
   "source": [
    "#### Without dpt"
   ]
  },
  {
   "cell_type": "code",
   "execution_count": null,
   "id": "e0c653dd",
   "metadata": {},
   "outputs": [],
   "source": [
    "import difflib\n",
    "\n",
    "# Créer un dictionnaire de correspondance entre les NCCENR et les codes INSEE\n",
    "nccenr_to_insee = main_insee_commune.set_index('NCCENR')['insee_code'].to_dict()\n",
    "\n",
    "# Lier les communes sans dpt de localisation (fuzzy match)\n",
    "communes_fuzzy_nodpt_df = communes_df[~communes_df.article_id.isin(linked_communes_df['article_id'])][communes_df.dpt_code == 'none']\n",
    "communes_fuzzy_nodpt_df['insee_code'] = communes_fuzzy_nodpt_df['vedette']\n",
    "communes_fuzzy_nodpt_df['insee_code'] = communes_fuzzy_nodpt_df.apply(\n",
    "    lambda x: [f\"{nccenr} ({nccenr_to_insee.get(nccenr, '')})\" for nccenr in difflib.get_close_matches(x['vedette'], main_insee_commune['NCCENR'], n=3)],\n",
    "    axis=1\n",
    ")\n",
    "\n",
    "# Sortir les communes non liées\n",
    "communes_fuzzy_nodpt_df = communes_fuzzy_nodpt_df[communes_fuzzy_nodpt_df['insee_code'].map(lambda x: len(x)) > 0]\n",
    "\n",
    "# Concaténer les codes INSEE avec les NCCENR dans la même cellule\n",
    "communes_fuzzy_nodpt_df['insee_code'] = communes_fuzzy_nodpt_df['insee_code'].apply(lambda x: ', '.join(x))\n",
    "\n",
    "communes_fuzzy_nodpt_df['method'] = 'nodpt_fuzzy'\n",
    "\n",
    "# Actualiser le df des liages réalisés\n",
    "linked_communes_df = pd.concat([linked_communes_df, communes_fuzzy_nodpt_df]).drop_duplicates()\n",
    "\n"
   ]
  },
  {
   "cell_type": "code",
   "execution_count": null,
   "id": "b6f8f1c2-da57-4147-aae5-d7ce4bf58727",
   "metadata": {},
   "outputs": [],
   "source": [
    "# Tests\n",
    "communes_fuzzy_nodpt_df\n",
    "#communes_fuzzy_nodpt_df.shape\n",
    "#linked_communes_df.shape"
   ]
  },
  {
   "cell_type": "code",
   "execution_count": null,
   "id": "184c7ba4",
   "metadata": {},
   "outputs": [],
   "source": [
    "communes_fuzzy_nodpt_df.loc[communes_fuzzy_nodpt_df.duplicated(keep=False, subset=['article_id']), :]"
   ]
  },
  {
   "cell_type": "markdown",
   "id": "14329046-67dc-49ab-bbd6-e8eefea12bac",
   "metadata": {},
   "source": [
    "## Liage des communes de localisation"
   ]
  },
  {
   "cell_type": "code",
   "execution_count": null,
   "id": "1469cbc4",
   "metadata": {},
   "outputs": [],
   "source": [
    "# Extraction des articles appartenant à une commune (ceux ont une commune de localisation)\n",
    "\n",
    "pas_communes_df = df[df['localisationco'] != 'none']\n",
    "pas_communes_df"
   ]
  },
  {
   "cell_type": "markdown",
   "id": "a3bd31a4-3b4b-4f1a-9f96-a13963d90eec",
   "metadata": {},
   "source": [
    "### Exact match method"
   ]
  },
  {
   "cell_type": "markdown",
   "id": "8349ce4a-59b9-42f3-900e-0cadb2008933",
   "metadata": {},
   "source": [
    "#### With dpt"
   ]
  },
  {
   "cell_type": "code",
   "execution_count": null,
   "id": "94a1e95f-4aa6-4bee-b734-6a50be671a2e",
   "metadata": {},
   "outputs": [],
   "source": [
    "# liage des communes avec localisation (dpt/exact match)\n",
    "pas_communes_exact_dpt_df = pd.merge(pas_communes_df,\n",
    "                                 main_insee_commune,\n",
    "                                 how='inner',\n",
    "                                 left_on=['localisationco','dpt_code'],\n",
    "                                 right_on = ['NCCENR','DEP_id'])\n",
    "pas_communes_exact_dpt_df = pas_communes_exact_dpt_df.drop(columns=['DEP_id', 'NCCENR'], axis=1)\n",
    "\n",
    "pas_communes_exact_dpt_df['method'] = 'dpt_exact'\n",
    "\n",
    "# actualiser le df des liages réalisés\n",
    "linked_communes_df = pd.concat([linked_communes_df, pas_communes_exact_dpt_df]).drop_duplicates()"
   ]
  },
  {
   "cell_type": "code",
   "execution_count": null,
   "id": "b4a0e7f1",
   "metadata": {},
   "outputs": [],
   "source": [
    "# Tests\n",
    "pas_communes_exact_dpt_df.head(5)\n",
    "#pas_communes_exact_dpt_df.shape"
   ]
  },
  {
   "cell_type": "code",
   "execution_count": null,
   "id": "c17bf41f",
   "metadata": {},
   "outputs": [],
   "source": [
    "# des doublons de liage exact match dans un même dpt ?\n",
    "#pas_communes_exact_dpt_df.article_id.duplicated().sum()\n",
    "pas_communes_exact_dpt_df.loc[pas_communes_exact_dpt_df.duplicated(keep=False, subset=['article_id']), :]"
   ]
  },
  {
   "cell_type": "markdown",
   "id": "63a52910-0e21-4765-90ac-b6bd340f7e06",
   "metadata": {},
   "source": [
    "#### Without dpt"
   ]
  },
  {
   "cell_type": "code",
   "execution_count": null,
   "id": "5e117e13-8888-4b86-ba79-5d135c52501d",
   "metadata": {},
   "outputs": [],
   "source": [
    "# liage des communes sans dpt de localisation (nodpt/exact match)\n",
    "pas_communes_exact_nodpt_df = pd.merge(pas_communes_df.loc[pas_communes_df['dpt_code'] == 'none'],\n",
    "                                   main_insee_commune[main_insee_commune.DEP_id.isin(dpt_list)],\n",
    "                                   how='inner',\n",
    "                                   left_on='localisationco',\n",
    "                                   right_on = 'NCCENR')\n",
    "pas_communes_exact_nodpt_df = pas_communes_exact_nodpt_df.drop(columns=['DEP_id', 'NCCENR'], axis=1)\n",
    "\n",
    "pas_communes_exact_nodpt_df['method'] = 'nodpt_exact'\n",
    "\n",
    "# actualiser le df des liages réalisés\n",
    "linked_communes_df = pd.concat([linked_communes_df, pas_communes_exact_nodpt_df]).drop_duplicates()"
   ]
  },
  {
   "cell_type": "code",
   "execution_count": null,
   "id": "45f7ae81",
   "metadata": {},
   "outputs": [],
   "source": [
    "# Test\n",
    "pas_communes_exact_nodpt_df\n",
    "#linked_communes_df.shape"
   ]
  },
  {
   "cell_type": "markdown",
   "id": "4791c691-55a1-4d6d-b294-ed5fda26b4d7",
   "metadata": {},
   "source": [
    "### Fuzzy match method"
   ]
  },
  {
   "cell_type": "markdown",
   "id": "3b407a81-3602-4413-8317-071a47a7bfd2",
   "metadata": {},
   "source": [
    "#### With dpt"
   ]
  },
  {
   "cell_type": "code",
   "execution_count": null,
   "id": "36be06e4",
   "metadata": {},
   "outputs": [],
   "source": [
    "import difflib\n",
    "\n",
    "# Créer un dictionnaire de correspondance entre les NCCENR et les codes INSEE\n",
    "nccenr_to_insee = main_insee_commune.set_index('NCCENR')['insee_code'].to_dict()\n",
    "\n",
    "# Lier les communes avec dpt de localisation (dpt/fuzzy match)\n",
    "pas_communes_fuzzy_dpt_df = pas_communes_df[~pas_communes_df.article_id.isin(linked_communes_df['article_id'])][pascommunes_df.dpt_code != 'none']\n",
    "pas_communes_fuzzy_dpt_df['insee_code'] = pas_communes_fuzzy_dpt_df['localisationco']\n",
    "pas_communes_fuzzy_dpt_df['insee_code'] = pas_communes_fuzzy_dpt_df.apply(\n",
    "    lambda x: [f\"{nccenr} ({nccenr_to_insee.get(nccenr, '')})\" for nccenr in difflib.get_close_matches(x['localisationco'], main_insee_commune[main_insee_commune['DEP_id'] == x['dpt_code']]['NCCENR'], n=3)],\n",
    "    axis=1\n",
    ")\n",
    "\n",
    "# Sortir les communes non liées\n",
    "pas_communes_fuzzy_dpt_df = pas_communes_fuzzy_dpt_df[pas_communes_fuzzy_dpt_df['insee_code'].map(lambda x: len(x)) > 0]\n",
    "\n",
    "# Concaténer les codes INSEE avec les NCCENR dans la même cellule\n",
    "pas_communes_fuzzy_dpt_df['insee_code'] = pas_communes_fuzzy_dpt_df['insee_code'].apply(lambda x: ', '.join(x))\n",
    "\n",
    "pas_communes_fuzzy_dpt_df['method'] = 'dpt_fuzzy'\n",
    "\n",
    "# Actualiser le df des liages réalisés\n",
    "linked_communes_df = pd.concat([linked_communes_df, pas_communes_fuzzy_dpt_df]).drop_duplicates()\n",
    "\n"
   ]
  },
  {
   "cell_type": "code",
   "execution_count": null,
   "id": "ca0b189b",
   "metadata": {},
   "outputs": [],
   "source": [
    "# Tests\n",
    "pas_communes_fuzzy_dpt_df\n",
    "#linked_communes_df.shape\n",
    "#linked_communes_df"
   ]
  },
  {
   "cell_type": "markdown",
   "id": "90d1170a-b328-4170-b849-0c77852a0203",
   "metadata": {},
   "source": [
    "#### Without dpt"
   ]
  },
  {
   "cell_type": "code",
   "execution_count": null,
   "id": "7f37f669",
   "metadata": {},
   "outputs": [],
   "source": [
    "import difflib\n",
    "\n",
    "# Créer un dictionnaire de correspondance entre les NCCENR et les codes INSEE\n",
    "nccenr_to_insee = main_insee_commune.set_index('NCCENR')['insee_code'].to_dict()\n",
    "\n",
    "# Lier les communes sans dpt de localisation (fuzzy match)\n",
    "pas_communes_fuzzy_nodpt_df = pas_communes_df[~pas_communes_df.article_id.isin(linked_communes_df['article_id'])][pas_communes_df.dpt_code == 'none']\n",
    "pas_communes_fuzzy_nodpt_df['insee_code'] = pas_communes_fuzzy_nodpt_df['localisationco']\n",
    "pas_communes_fuzzy_nodpt_df['insee_code'] = pas_communes_fuzzy_nodpt_df.apply(\n",
    "    lambda x: [f\"{nccenr} ({nccenr_to_insee.get(nccenr, '')})\" for nccenr in difflib.get_close_matches(x['localisationco'], main_insee_commune['NCCENR'], n=3)],\n",
    "    axis=1\n",
    ")\n",
    "\n",
    "# Sortir les communes non liées\n",
    "pas_communes_fuzzy_nodpt_df = pas_communes_fuzzy_nodpt_df[pas_communes_fuzzy_nodpt_df['insee_code'].map(lambda x: len(x)) > 0]\n",
    "\n",
    "# Concaténer les codes INSEE avec les NCCENR dans la même cellule\n",
    "pas_communes_fuzzy_nodpt_df['insee_code'] = pas_communes_fuzzy_nodpt_df['insee_code'].apply(lambda x: ', '.join(x))\n",
    "\n",
    "pas_communes_fuzzy_nodpt_df['method'] = 'nodpt_fuzzy'\n",
    "\n",
    "# Actualiser le df des liages réalisés\n",
    "linked_communes_df = pd.concat([linked_communes_df, pas_communes_fuzzy_nodpt_df]).drop_duplicates()"
   ]
  },
  {
   "cell_type": "code",
   "execution_count": null,
   "id": "e80f0333",
   "metadata": {},
   "outputs": [],
   "source": [
    "# Tests\n",
    "pas_communes_fuzzy_nodpt_df\n",
    "#linked_communes_df.shape"
   ]
  },
  {
   "cell_type": "markdown",
   "id": "ea7170c9-5b95-4a96-a559-5887027b8892",
   "metadata": {},
   "source": [
    "## Rapport et analyse"
   ]
  },
  {
   "cell_type": "code",
   "execution_count": null,
   "id": "3c0cbcc9-1039-45ad-81c2-438400ab33c3",
   "metadata": {},
   "outputs": [],
   "source": [
    "print(linked_communes_df)"
   ]
  },
  {
   "cell_type": "code",
   "execution_count": null,
   "id": "d0144b0f",
   "metadata": {},
   "outputs": [],
   "source": [
    "# des doublons?\n",
    "doublons_linked_communes_df = linked_communes_df.loc[linked_communes_df.duplicated(keep=False, subset=['article_id']), :]\n",
    "print(doublons_linked_communes_df)\n"
   ]
  },
  {
   "cell_type": "code",
   "execution_count": null,
   "id": "54721647",
   "metadata": {},
   "outputs": [],
   "source": [
    "report = dict(\n",
    "    article = i,\n",
    "    article_lies = len(linked_communes_df.index),\n",
    "    article_lies_doublons = len(doublons_linked_communes_df.index),\n",
    "    article_commune_exact = len(communes_exact_dpt_df.index),\n",
    "    article_commune_nodpt_exact = len(communes_exact_nodpt_df.index),\n",
    "    article_commune_fuzzy = len(communes_fuzzy_dpt_df.index),\n",
    "    article_commune_nodpt_fuzzy = len(communes_fuzzy_nodpt_df.index),\n",
    "    article_pas_commune_exact = len(pas_communes_exact_dpt_df.index),\n",
    "    article_pas_commune_nodpt_exact = len(pas_communes_exact_nodpt_df.index),\n",
    "    article_pas_commune_fuzzy = len(pas_communes_fuzzy_dpt_df.index),\n",
    "    article_pas_commune_nodpt_fuzzy = len(pas_communes_fuzzy_nodpt_df.index),\n",
    "    article_exactdpt = (linked_communes_df.method == 'dpt_exact').sum(),\n",
    "    article_exactnodpt = (linked_communes_df.method == 'nodpt_exact').sum(),\n",
    "    article_fuzzydpt = (linked_communes_df.method == 'dpt_fuzzy').sum(),\n",
    "    article_fuzzynodpt = (linked_communes_df.method == 'nodpt_fuzzy').sum(),\n",
    ")    \n",
    "\n",
    "# check\n",
    "[print(k,':',v) for k, v in report.items()]\n",
    "linked_communes_df.iloc[1500:1510, :]"
   ]
  },
  {
   "cell_type": "code",
   "execution_count": null,
   "id": "3e85958b",
   "metadata": {},
   "outputs": [],
   "source": [
    "for col in linked_communes_df.columns:\n",
    "    if col not in df.columns:\n",
    "        df[col] = 'nulle'\n",
    "\n",
    "print(df)"
   ]
  },
  {
   "cell_type": "code",
   "execution_count": null,
   "id": "b523c4ca",
   "metadata": {
    "scrolled": true
   },
   "outputs": [],
   "source": [
    "new_rows_df = df[~df['article_id'].isin(linked_communes_df['article_id'])]\n",
    "\n",
    "merged_df = linked_communes_df.append(new_rows_df, ignore_index=True)\n",
    "\n",
    "merged_df"
   ]
  },
  {
   "cell_type": "code",
   "execution_count": null,
   "id": "1cff8f0d",
   "metadata": {},
   "outputs": [],
   "source": [
    "articles_nuls = merged_df[merged_df['insee_code'] == 'nulle']\n",
    "\n",
    "articles_nuls"
   ]
  },
  {
   "cell_type": "code",
   "execution_count": null,
   "id": "206e57bb",
   "metadata": {},
   "outputs": [],
   "source": [
    "# des doublons?\n",
    "merged_df_dupes = merged_df.loc[merged_df.duplicated(keep=False, subset=['article_id']), :]\n",
    "print(merged_df_dupes)"
   ]
  },
  {
   "cell_type": "code",
   "execution_count": null,
   "id": "fb315fbc",
   "metadata": {},
   "outputs": [],
   "source": [
    "merged_df_duplicates = merged_df[merged_df.duplicated('article_id')]\n",
    "print(merged_df_duplicates)"
   ]
  },
  {
   "cell_type": "code",
   "execution_count": null,
   "id": "ef822203",
   "metadata": {},
   "outputs": [],
   "source": [
    "merged_df_dupes.shape"
   ]
  },
  {
   "cell_type": "code",
   "execution_count": null,
   "id": "540cff26",
   "metadata": {},
   "outputs": [],
   "source": [
    "method_counts = merged_df['method'].value_counts()\n",
    "print(method_counts)"
   ]
  },
  {
   "cell_type": "markdown",
   "id": "42573970",
   "metadata": {},
   "source": [
    "## Cellule a revoir"
   ]
  },
  {
   "cell_type": "markdown",
   "id": "43f6126f",
   "metadata": {},
   "source": [
    "Ici, ca bloque. J'essaie d'ordonner par vedette / localisationco si les valeurs sont les memes, pour faciliter le travail d'Olivier: malheureusement, j'avais reussi a le faire avec mon ancienne methode (quand je fusionnais deux dataframes ensemble), mais la je n'ai pas l'impression que ca fonctionne du tout."
   ]
  },
  {
   "cell_type": "code",
   "execution_count": null,
   "id": "c378de22",
   "metadata": {},
   "outputs": [],
   "source": [
    "import pandas as pd\n",
    "\n",
    "# Tri du dataframe par article_id\n",
    "merged_df.sort_values('article_id', inplace=True)\n",
    "\n",
    "# Création d'une colonne temporaire pour stocker les valeurs de 'vedette' et de 'localisationco' converties en chaînes de caractères\n",
    "merged_df['vedette_str'] = merged_df['vedette'].astype(str)\n",
    "merged_df['localisationco_str'] = merged_df['localisationco'].astype(str)\n",
    "\n",
    "# Tri du dataframe en utilisant la colonne 'vedette_str' pour le tri principal et la colonne 'localisationco_str' pour le tri secondaire\n",
    "merged_df.sort_values(['vedette_str', 'localisationco_str'], inplace=True)\n",
    "\n",
    "# Suppression des colonnes temporaires\n",
    "merged_df.drop(['vedette_str', 'localisationco_str'], axis=1, inplace=True)\n"
   ]
  },
  {
   "cell_type": "code",
   "execution_count": null,
   "id": "bc4ae5f8",
   "metadata": {},
   "outputs": [],
   "source": [
    "merged_df.head(30)"
   ]
  },
  {
   "cell_type": "markdown",
   "id": "ec412f07-9349-4232-8f10-af828eab4420",
   "metadata": {},
   "source": [
    "## Export"
   ]
  },
  {
   "cell_type": "code",
   "execution_count": null,
   "id": "df3b161f-cf40-43da-8b56-ee697587d6ee",
   "metadata": {},
   "outputs": [],
   "source": [
    "# Sauvegarder le dataframe fusionné\n",
    "merged_df.to_csv('../../utils/liage_po7.csv', index=False)"
   ]
  },
  {
   "cell_type": "code",
   "execution_count": null,
   "id": "025d33c1-4a0a-47a9-b636-ad7690ad5110",
   "metadata": {},
   "outputs": [],
   "source": []
  }
 ],
 "metadata": {
  "kernelspec": {
   "display_name": "Python 3 (ipykernel)",
   "language": "python",
   "name": "python3"
  },
  "language_info": {
   "codemirror_mode": {
    "name": "ipython",
    "version": 3
   },
   "file_extension": ".py",
   "mimetype": "text/x-python",
   "name": "python",
   "nbconvert_exporter": "python",
   "pygments_lexer": "ipython3",
   "version": "3.9.7"
  }
 },
 "nbformat": 4,
 "nbformat_minor": 5
}
