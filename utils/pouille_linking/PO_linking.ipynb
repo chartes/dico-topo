{
 "cells": [
  {
   "cell_type": "code",
   "execution_count": null,
   "id": "4cac7386",
   "metadata": {},
   "outputs": [],
   "source": [
    "import sys\n",
    "import pandas as pd\n",
    "from lxml import etree\n",
    "import re\n",
    "from thefuzz import fuzz\n",
    "\n",
    "print(sys.executable)"
   ]
  },
  {
   "cell_type": "markdown",
   "id": "46ab9fbb",
   "metadata": {},
   "source": [
    "## Preprocessing\n",
    "\n",
    "1. extration des articles à lier et des features utiles dans df\n",
    "2. chargement du référentiel des communes (COG 2011) dans le df main_insee_commune"
   ]
  },
  {
   "cell_type": "code",
   "execution_count": null,
   "id": "3a048358",
   "metadata": {},
   "outputs": [],
   "source": [
    "# Extraction des features de chaque article à lier dans un df\n",
    "\n",
    "xml_file = '../../data/PO_t7/PO_t7.xml'\n",
    "xml_tree = etree.parse(xml_file)\n",
    "\n",
    "data = []\n",
    "\n",
    "i = 0 # compter les articles\n",
    "\n",
    "for article in xml_tree.xpath('//article'):\n",
    "    i+=1\n",
    "    # on ne retient pas les lieux hors France\n",
    "    if article.find('./localisationpa') is not None:\n",
    "        continue\n",
    "    vedettes = article.xpath('./vedette/i')\n",
    "    # on ne retient que la première vedette\n",
    "    vedette = vedettes[0].text if vedettes else ''\n",
    "    \n",
    "    # on ne retient que le premier dpt de localisation\n",
    "    localisationde = article.find('./localisationde')\n",
    "    localisationde = localisationde.text if localisationde is not None else 'none'\n",
    "    \n",
    "    # on ne retient que le premier canton de localisation\n",
    "    localisationca = article.find('./localisationca')\n",
    "    if localisationca is not None:\n",
    "        localisationca = re.search(\n",
    "            r'<localisationca>(.*?)<\\/localisationca>',\n",
    "            etree.tostring(localisationca, encoding=str)\n",
    "        ).group(1)\n",
    "        '''\n",
    "        cases:\n",
    "        - 'c<sup>on</sup> de '\n",
    "        - 'c<sup>on</sup> du '\n",
    "        - 'c<sup>on</sup> d’'\n",
    "        - 'c<sup>on</sup> de la '\n",
    "        - 'c<sup>on</sup> de l’'\n",
    "        - 'c<sup>on</sup> des '\n",
    "        '''\n",
    "        localisationca = re.sub(r\"c<sup>on</sup> (de |d’|de la |du |de l’|des )\", '', localisationca)    \n",
    "    else:\n",
    "        localisationca = 'none'\n",
    "    \n",
    "    #  on ne retient que la première commune de localisation\n",
    "    localisationco = article.find('./localisationco')\n",
    "    if localisationco is not None:\n",
    "        localisationco = re.search(\n",
    "            r'<localisationco>(.*?)<\\/localisationco>',\n",
    "            etree.tostring(localisationco, encoding=str)\n",
    "        ).group(1)            \n",
    "        '''\n",
    "        cases:\n",
    "        - 'c<sup>on</sup> de '\n",
    "        - 'c<sup>on</sup> du '\n",
    "        - 'c<sup>on</sup> d’'\n",
    "        - 'c<sup>on</sup> de la '\n",
    "        - 'c<sup>on</sup> de l’'\n",
    "        - 'c<sup>on</sup> des '\n",
    "        - 'c<sup>nes</sup> de '\n",
    "        - 'c<sup>nes</sup> d’'\n",
    "            '''\n",
    "        localisationco = re.sub(r\"c<sup>ne(s)?</sup> (de |d’|de la |du |de l’|des )\", '', localisationco)\n",
    "        \n",
    "    else: \n",
    "        localisationco = 'none'\n",
    "    \n",
    "    #on insère tout dans un dictionnaire\n",
    "    data.append({\n",
    "        'old-id': article.get('old-id'),\n",
    "        'vedette': vedette,\n",
    "        'localisationde': localisationde,\n",
    "        'localisationca': localisationca,\n",
    "        'localisationco': localisationco\n",
    "    })\n",
    "\n",
    "df = pd.DataFrame(data)\n",
    "\n",
    "'''\n",
    "article : nombre d’articles dans la source => `//article`\n",
    "article_to_link : nombre d’articles à lier (en France) => `//article[not(localisationpa)]`\n",
    "article_commune : nombre d’articles de type commune => `//article[not(localisationpa) and not(localisationco)]`\n",
    "article_loc_com : nombre d’articles localisés dans une commune => `//article[not(localisationpa) and localisationco]`\n",
    "'''\n",
    "report = dict(\n",
    "    article = i,\n",
    "    article_to_link = len(df.index),\n",
    "    article_commune = (df.localisationco == 'none').sum(),\n",
    "    article_loc_com = (df.localisationco != 'none').sum()\n",
    ")    \n",
    "\n",
    "# check\n",
    "[print(k,':',v) for k, v in report.items()]\n",
    "df.iloc[1500:1510, :]"
   ]
  },
  {
   "cell_type": "code",
   "execution_count": null,
   "id": "21a1bdcd",
   "metadata": {},
   "outputs": [],
   "source": [
    "# Ajout du dpt code au df\n",
    "dpt_df = pd.read_csv('departements-region.csv')\n",
    "dpt_dict = dict(zip(dpt_df['dep_name'], dpt_df['num_dep']))\n",
    "\n",
    "# on ajoute notre colonne avec les numéros des départements qui matchent\n",
    "df['dpt_code'] = df['localisationde'].apply(lambda x: dpt_dict.get(x, 'none'))\n",
    "\n",
    "#on renomme et réordonne pour plus de clarté.\n",
    "df = df.rename(columns={'old-id' : 'article_id', 'localisationca' : 'canton_code', 'localisationco_present' : 'nom_commune'})\n",
    "df = df[['article_id', 'vedette', 'localisationde', 'dpt_code', 'canton_code', 'localisationco']]\n",
    "\n",
    "df.iloc[1500:1510, :]"
   ]
  },
  {
   "cell_type": "code",
   "execution_count": null,
   "id": "f95e30d1",
   "metadata": {},
   "outputs": [],
   "source": [
    "# Chargement du référentiel des communes\n",
    "# NB. pour Margot fields (on économise de la mémoire) + dtype\n",
    "fields = ['insee_code', 'DEP_id', 'NCCENR']\n",
    "main_insee_commune = pd.read_csv(\"main_insee_commune.tsv\",\n",
    "                                 delimiter='\\t',\n",
    "                                 usecols=fields,\n",
    "                                 dtype={'insee_code': 'string'})\n",
    "main_insee_commune['DEP_id'] = main_insee_commune['DEP_id'].apply(lambda x: x[4:])\n",
    "main_insee_commune.head(5)"
   ]
  },
  {
   "cell_type": "code",
   "execution_count": null,
   "id": "ed95e7f5-63f7-4b38-b688-3643987258b4",
   "metadata": {},
   "outputs": [],
   "source": [
    "# Liste les départements présents pour mieux filtrer quand pas de localisationde\n",
    "dpt_list = df['dpt_code'].unique().tolist()\n",
    "dpt_list.remove(\"none\")\n",
    "dpt_list.sort()\n",
    "print(dpt_list)"
   ]
  },
  {
   "cell_type": "markdown",
   "id": "539680c0",
   "metadata": {},
   "source": [
    "## Liage des articles de type commune"
   ]
  },
  {
   "cell_type": "code",
   "execution_count": null,
   "id": "ba3e793e-7bcf-420c-a9e7-a71c2a973cdb",
   "metadata": {},
   "outputs": [],
   "source": [
    "# df des communes liées (pour décomptes et concaténation dans l’output final relu par OC et SN)\n",
    "linked_communes_df = pd.DataFrame()"
   ]
  },
  {
   "cell_type": "code",
   "execution_count": null,
   "id": "169ad193",
   "metadata": {},
   "outputs": [],
   "source": [
    "# Extraction des articles de type commune (ceux qui n’ont pas de commune de localisation)\n",
    "\n",
    "communes_df = df[df['localisationco'] == 'none']\n",
    "communes_df.iloc[1500:1510, :]\n",
    "#communes_df.shape"
   ]
  },
  {
   "cell_type": "markdown",
   "id": "81ed8f93-8961-4522-a02b-dfd56ec5265a",
   "metadata": {},
   "source": [
    "### Exact match method"
   ]
  },
  {
   "cell_type": "markdown",
   "id": "09178046-8b4c-485c-abb5-4084f5ee1402",
   "metadata": {},
   "source": [
    "#### With dpt"
   ]
  },
  {
   "cell_type": "code",
   "execution_count": null,
   "id": "51241f0a",
   "metadata": {},
   "outputs": [],
   "source": [
    "# liage des communes avec dpt de localisation (dpt/exact match)\n",
    "communes_exact_dpt_df = pd.merge(communes_df,\n",
    "                                 main_insee_commune,\n",
    "                                 how='inner',\n",
    "                                 left_on=['vedette','dpt_code'],\n",
    "                                 right_on = ['NCCENR','DEP_id'])\n",
    "communes_exact_dpt_df = communes_exact_dpt_df.drop(columns=['DEP_id', 'NCCENR'], axis=1)\n",
    "\n",
    "# actualiser le df des liages réalisés\n",
    "linked_communes_df = pd.concat([linked_communes_df, communes_exact_dpt_df]).drop_duplicates()"
   ]
  },
  {
   "cell_type": "code",
   "execution_count": null,
   "id": "2ac43df1-ced3-491b-b342-c8a928beef7b",
   "metadata": {},
   "outputs": [],
   "source": [
    "# Tests\n",
    "communes_exact_dpt_df.head(5)\n",
    "#communes_exact_dpt_df.shape"
   ]
  },
  {
   "cell_type": "code",
   "execution_count": null,
   "id": "026b613d-565e-4a08-8648-2765638cae39",
   "metadata": {},
   "outputs": [],
   "source": [
    "# des doublons de liage exact match dans un même dpt ?\n",
    "#communes_exact_dpt_df.article_id.duplicated().sum()\n",
    "communes_exact_dpt_df.loc[communes_exact_dpt_df.duplicated(keep=False, subset=['article_id']), :]"
   ]
  },
  {
   "cell_type": "markdown",
   "id": "78081c25-ff84-480d-bef6-8ad3432bd37e",
   "metadata": {},
   "source": [
    "#### Without dpt"
   ]
  },
  {
   "cell_type": "code",
   "execution_count": null,
   "id": "0601c9ea-cab9-48e1-8cf8-0ff839c9f2d6",
   "metadata": {},
   "outputs": [],
   "source": [
    "# liage des communes sans dpt de localisation (nodpt/exact match)\n",
    "communes_exact_nodpt_df = pd.merge(communes_df.loc[communes_df['dpt_code'] == 'none'],\n",
    "                                   main_insee_commune[main_insee_commune.DEP_id.isin(dpt_list)],\n",
    "                                   how='inner',\n",
    "                                   left_on='vedette',\n",
    "                                   right_on = 'NCCENR')\n",
    "communes_exact_nodpt_df = communes_exact_nodpt_df.drop(columns=['DEP_id', 'NCCENR'], axis=1)\n",
    "\n",
    "# actualiser le df des liages réalisés\n",
    "linked_communes_df = pd.concat([linked_communes_df, communes_exact_nodpt_df]).drop_duplicates()"
   ]
  },
  {
   "cell_type": "code",
   "execution_count": null,
   "id": "1b7f9dd1-6dc7-48a2-8f5b-360c485d106e",
   "metadata": {},
   "outputs": [],
   "source": [
    "# Test\n",
    "communes_exact_nodpt_df\n",
    "linked_communes_df.shape"
   ]
  },
  {
   "cell_type": "code",
   "execution_count": null,
   "id": "c3236547-78d1-46d5-9279-efd31ab0061b",
   "metadata": {},
   "outputs": [],
   "source": [
    "communes_exact_nodpt_df.loc[communes_exact_nodpt_df.duplicated(keep=False, subset=['article_id']), :]"
   ]
  },
  {
   "cell_type": "code",
   "execution_count": null,
   "id": "e711276f-d8d9-485c-9198-bdf2d2369fd5",
   "metadata": {},
   "outputs": [],
   "source": [
    "linked_communes_df['article_id']"
   ]
  },
  {
   "cell_type": "markdown",
   "id": "06689bac-6c71-4062-a05b-2e4ed4897a76",
   "metadata": {},
   "source": [
    "### Fuzzy method"
   ]
  },
  {
   "cell_type": "code",
   "execution_count": null,
   "id": "12aa15b2-43b6-49b0-a2d2-d11391319b03",
   "metadata": {},
   "outputs": [],
   "source": [
    "import difflib"
   ]
  },
  {
   "cell_type": "markdown",
   "id": "44763aaa-ba33-45d8-ade2-a824ebcd75fe",
   "metadata": {},
   "source": [
    "#### With dpt"
   ]
  },
  {
   "cell_type": "code",
   "execution_count": null,
   "id": "e707f098-709b-4f3a-8f4c-561f55f70151",
   "metadata": {},
   "outputs": [],
   "source": [
    "# liage des communes avec dpt de localisation (dpt/fuzzy match)\n",
    "communes_fuzzy_dpt_df = communes_df[~communes_df.article_id.isin(linked_communes_df['article_id'])][communes_df.dpt_code != 'none']\n",
    "communes_fuzzy_dpt_df['insee_code'] = communes_fuzzy_dpt_df['vedette']\n",
    "communes_fuzzy_dpt_df['insee_code'] = communes_fuzzy_dpt_df.apply(\n",
    "    lambda x: difflib.get_close_matches(x['vedette'], main_insee_commune[main_insee_commune['DEP_id'] == x['dpt_code']]['NCCENR']),\n",
    "    axis=1\n",
    ")\n",
    "# sortir les communes non liées\n",
    "communes_fuzzy_dpt_df = communes_fuzzy_dpt_df[communes_fuzzy_dpt_df['insee_code'].map(lambda d: len(d)) > 0]\n",
    "# list2string (pour dedoublonner et imprimer)\n",
    "# https://stackoverflow.com/questions/45306988/column-of-lists-convert-list-to-string-as-a-new-column\n",
    "communes_fuzzy_dpt_df['insee_code'] = [' ; '.join(map(str, l)) for l in communes_fuzzy_dpt_df['insee_code']]\n",
    "\n",
    "# actualiser le df des liages réalisés\n",
    "linked_communes_df = pd.concat([linked_communes_df, communes_fuzzy_dpt_df]).drop_duplicates()"
   ]
  },
  {
   "cell_type": "code",
   "execution_count": null,
   "id": "29afe0e6-143f-4bec-97f6-ee64ee6d31eb",
   "metadata": {},
   "outputs": [],
   "source": [
    "# Tests\n",
    "#communes_fuzzy_dpt_df.head(20)\n",
    "#linked_communes_df.shape\n",
    "linked_communes_df"
   ]
  },
  {
   "cell_type": "markdown",
   "id": "2f8b002a-4cda-4ea9-a91d-4cd608733d51",
   "metadata": {},
   "source": [
    "#### Without dpt"
   ]
  },
  {
   "cell_type": "code",
   "execution_count": null,
   "id": "52c3be36-42c5-4ebb-ba98-84259374a7b8",
   "metadata": {},
   "outputs": [],
   "source": [
    "# liage des communes sans dpt de localisation (nodpt/fuzzy match)\n",
    "communes_fuzzy_nodpt_df = communes_df[~communes_df.article_id.isin(linked_communes_df['article_id'])][communes_df.dpt_code == 'none']\n",
    "communes_fuzzy_nodpt_df['insee_code'] = communes_fuzzy_nodpt_df['vedette']\n",
    "communes_fuzzy_nodpt_df['insee_code'] = communes_fuzzy_nodpt_df['vedette'].apply(\n",
    "    lambda x: difflib.get_close_matches(x, main_insee_commune[main_insee_commune.DEP_id.isin(dpt_list)]['NCCENR']))\n",
    "\n",
    "communes_fuzzy_nodpt_df = communes_fuzzy_nodpt_df[communes_fuzzy_nodpt_df['insee_code'].map(lambda d: len(d)) > 0]\n",
    "communes_fuzzy_nodpt_df\n",
    "\n",
    "# https://stackoverflow.com/questions/45306988/column-of-lists-convert-list-to-string-as-a-new-column\n",
    "communes_fuzzy_nodpt_df['insee_code'] = [' ; '.join(map(str, l)) for l in communes_fuzzy_nodpt_df['insee_code']]\n",
    "\n",
    "# actualiser le df des liages réalisés\n",
    "linked_communes_df = pd.concat([linked_communes_df, communes_fuzzy_nodpt_df]).drop_duplicates()"
   ]
  },
  {
   "cell_type": "code",
   "execution_count": null,
   "id": "b6f8f1c2-da57-4147-aae5-d7ce4bf58727",
   "metadata": {},
   "outputs": [],
   "source": [
    "# Tests\n",
    "#communes_fuzzy_nodpt_df\n",
    "communes_fuzzy_nodpt_df.shape\n",
    "linked_communes_df.shape"
   ]
  },
  {
   "cell_type": "markdown",
   "id": "14329046-67dc-49ab-bbd6-e8eefea12bac",
   "metadata": {},
   "source": [
    "## Liage des communes de localisation"
   ]
  },
  {
   "cell_type": "markdown",
   "id": "a3bd31a4-3b4b-4f1a-9f96-a13963d90eec",
   "metadata": {},
   "source": [
    "### Exact match method"
   ]
  },
  {
   "cell_type": "code",
   "execution_count": null,
   "id": "8c32f83b-48d0-4098-b5fc-fe4b74e224f6",
   "metadata": {},
   "outputs": [],
   "source": []
  },
  {
   "cell_type": "markdown",
   "id": "8349ce4a-59b9-42f3-900e-0cadb2008933",
   "metadata": {},
   "source": [
    "#### With dpt"
   ]
  },
  {
   "cell_type": "code",
   "execution_count": null,
   "id": "94a1e95f-4aa6-4bee-b734-6a50be671a2e",
   "metadata": {},
   "outputs": [],
   "source": []
  },
  {
   "cell_type": "markdown",
   "id": "63a52910-0e21-4765-90ac-b6bd340f7e06",
   "metadata": {},
   "source": [
    "#### Without dpt"
   ]
  },
  {
   "cell_type": "code",
   "execution_count": null,
   "id": "5e117e13-8888-4b86-ba79-5d135c52501d",
   "metadata": {},
   "outputs": [],
   "source": []
  },
  {
   "cell_type": "markdown",
   "id": "4791c691-55a1-4d6d-b294-ed5fda26b4d7",
   "metadata": {},
   "source": [
    "### Fuzzy match method"
   ]
  },
  {
   "cell_type": "code",
   "execution_count": null,
   "id": "4164cd2e-33ea-4bd4-a0d3-510ac17fe723",
   "metadata": {},
   "outputs": [],
   "source": []
  },
  {
   "cell_type": "markdown",
   "id": "3b407a81-3602-4413-8317-071a47a7bfd2",
   "metadata": {},
   "source": [
    "#### With dpt"
   ]
  },
  {
   "cell_type": "code",
   "execution_count": null,
   "id": "4f219d8d-95bf-4750-9689-378636265a79",
   "metadata": {},
   "outputs": [],
   "source": []
  },
  {
   "cell_type": "markdown",
   "id": "90d1170a-b328-4170-b849-0c77852a0203",
   "metadata": {},
   "source": [
    "#### Without dpt"
   ]
  },
  {
   "cell_type": "code",
   "execution_count": null,
   "id": "26832c13-2593-40d2-b159-7baad40116cc",
   "metadata": {},
   "outputs": [],
   "source": []
  },
  {
   "cell_type": "markdown",
   "id": "ea7170c9-5b95-4a96-a559-5887027b8892",
   "metadata": {},
   "source": [
    "## Rapport et analyse"
   ]
  },
  {
   "cell_type": "code",
   "execution_count": null,
   "id": "3c0cbcc9-1039-45ad-81c2-438400ab33c3",
   "metadata": {},
   "outputs": [],
   "source": []
  },
  {
   "cell_type": "markdown",
   "id": "ec412f07-9349-4232-8f10-af828eab4420",
   "metadata": {},
   "source": [
    "## Export"
   ]
  },
  {
   "cell_type": "code",
   "execution_count": null,
   "id": "df3b161f-cf40-43da-8b56-ee697587d6ee",
   "metadata": {},
   "outputs": [],
   "source": []
  },
  {
   "cell_type": "code",
   "execution_count": null,
   "id": "025d33c1-4a0a-47a9-b636-ad7690ad5110",
   "metadata": {},
   "outputs": [],
   "source": []
  },
  {
   "cell_type": "code",
   "execution_count": null,
   "id": "778f61d3-c9bc-40b4-8908-0ebd9e51be1c",
   "metadata": {},
   "outputs": [],
   "source": []
  },
  {
   "cell_type": "code",
   "execution_count": null,
   "id": "4ddfc300",
   "metadata": {},
   "outputs": [],
   "source": [
    "# MARGOT – REVOIR\n",
    "# Liage des exact-matches ('vedette' == 'NCCENR' du référentiel des communes)\n",
    "\n",
    "# merge sur dpt_code/DEP_id – ALGO très lourd : produire un df de toutes le combinaisons possibles article/communes par dpt \n",
    "# TODO: définir un ALGO plus light ! – dédoublonner d’emblée ?\n",
    "commune_merged_df = pd.merge(\n",
    "    commune_df,\n",
    "    main_insee_commune,\n",
    "    left_on='dpt_code',\n",
    "    right_on='DEP_id',\n",
    "    how='left')\n",
    "#commune_merged_df.head(20)\n",
    "\n",
    "# Sélectionner les lignes où 'vedette' == 'NCCENR'\n",
    "matching_rows = commune_merged_df.loc[commune_merged_df['vedette'] == commune_merged_df['NCCENR']]\n",
    "# ajout du liage aux df des communes à lier – 'none' sinon\n",
    "commune_df['insee_code'] = commune_df.apply(lambda row: main_insee_commune.loc[main_insee_commune['NCCENR'] == row['vedette']]['insee_code'].values[0] if len(main_insee_commune.loc[main_insee_commune['NCCENR'] == row['vedette']]['insee_code'].values) > 0 else None, axis=1)\n",
    "commune_df['insee_code'] = commune_df['insee_code'].fillna('none')\n",
    "\n",
    "commune_df.head(10)"
   ]
  },
  {
   "cell_type": "code",
   "execution_count": null,
   "id": "b58a6b5e",
   "metadata": {},
   "outputs": [],
   "source": [
    "#tous nos article_id qui correspondent à un code insee ; on peut donc en conclure que ce sont effectivement des \n",
    "#communes.\n",
    "# ICI les seules communes liées par exact match… On aurait pu en faire le df a priori au merge précédent (NCCENR ==vedette)…\n",
    "\n",
    "commune_insee = commune_df[commune_df['insee_code'] != 'none']\n",
    "print(commune_insee)\n",
    "\n",
    "#on a donc exactement 2357 matches."
   ]
  },
  {
   "cell_type": "code",
   "execution_count": null,
   "id": "bea4885e",
   "metadata": {},
   "outputs": [],
   "source": [
    "#modification de notre dataframe: ajout d'une colonne method qui nous permet d'identifier la méthode utilisée pour le\n",
    "#liage\n",
    "\n",
    "commune_insee['method'] = 'exact'\n",
    "commune_insee.loc[commune_insee['dpt_code'] == 'none', 'method'] = 'nodpt'\n",
    "\n",
    "print(commune_insee)"
   ]
  },
  {
   "cell_type": "code",
   "execution_count": null,
   "id": "3ecfd292",
   "metadata": {},
   "outputs": [],
   "source": [
    "#les articles qui du coup ne seraient apparemment pas des communes.\n",
    "\n",
    "commune_noinsee = commune_df.loc[commune_df['insee_code'] == 'none']\n",
    "print(commune_noinsee)\n",
    "\n",
    "#nous en avons donc 391."
   ]
  },
  {
   "cell_type": "code",
   "execution_count": null,
   "id": "34375fcb",
   "metadata": {},
   "outputs": [],
   "source": [
    "# Définition d'une fonction pour le fuzzy join\n",
    "\n",
    "def fuzzy_join(row, distance):\n",
    "    # Filtre sur les lignes avec les mêmes départements\n",
    "    main_dep = main_insee_commune[main_insee_commune['DEP_id'] == row['dpt_code']]\n",
    "    # Calcul de la distance Levenshtein entre la vedette du localisationco_pascommune et les NCCENR de chaque ligne de main_dep\n",
    "    scores = main_dep['NCCENR'].apply(lambda x: fuzz.token_sort_ratio(x, row['vedette']))\n",
    "    # Récupération des lignes avec une distance Levenshtein inférieure ou égale à distance\n",
    "    filtered = main_dep[scores >= distance]\n",
    "    # Ajout de la colonne insee_code dans le dataframe localisationco_pascommune\n",
    "    if not filtered.empty:\n",
    "        insee_code = filtered['insee_code'].values[0]\n",
    "        if pd.isnull(insee_code):\n",
    "            return 'none'\n",
    "        else:\n",
    "            return insee_code\n",
    "    else:\n",
    "        return 'none'\n",
    "    \n",
    "# Application de la fonction sur chaque ligne du dataframe localisationco_pascommune\n",
    "commune_noinsee['insee_code'] = commune_noinsee.apply(fuzzy_join, distance=90, axis=1)"
   ]
  },
  {
   "cell_type": "code",
   "execution_count": null,
   "id": "48b600eb",
   "metadata": {},
   "outputs": [],
   "source": [
    "print(commune_noinsee)"
   ]
  },
  {
   "cell_type": "code",
   "execution_count": null,
   "id": "77509fb8",
   "metadata": {},
   "outputs": [],
   "source": [
    "#on veut savoir combien ont été joined par le fuzzy\n",
    "\n",
    "commune_fuzzy = commune_noinsee[commune_noinsee['insee_code'] != 'none']\n",
    "\n",
    "# on ajoute une colonne method pour indiquer que le join a été réalisé par fuzzy\n",
    "\n",
    "commune_fuzzy['method'] = 'fuzzy'\n",
    "\n",
    "print(commune_fuzzy)"
   ]
  },
  {
   "cell_type": "code",
   "execution_count": null,
   "id": "c8f9a3c0",
   "metadata": {},
   "outputs": [],
   "source": [
    "# maintenant, on s'intéresse aux localisationco qui n'ont toujours pas de liage.\n",
    "\n",
    "commune_fuzzynull = commune_noinsee[commune_noinsee['insee_code'] == 'none']\n",
    "\n",
    "#idem, on ajoute la méthode pour savoir que ces derniers n'ont été matchés ni avec le exact ni avec le fuzzy.\n",
    "#on différencie bien sûr ceux n'ayant simplement pas de dpt_code\n",
    "\n",
    "commune_fuzzynull['method'] = 'nulle'\n",
    "print(commune_fuzzynull)"
   ]
  },
  {
   "cell_type": "code",
   "execution_count": null,
   "id": "eaba99a8",
   "metadata": {},
   "outputs": [],
   "source": [
    "#il faut maintenant concaténer nos 3 dataframes, en respectant l'ordre original des article_id\n",
    "\n",
    "commune_final_df = pd.concat([commune_insee, commune_fuzzy, commune_fuzzynull], axis=0)\n",
    "commune_final_df = commune_final_df.sort_values('method', ascending=True)\n",
    "\n",
    "print(commune_final_df)"
   ]
  },
  {
   "cell_type": "code",
   "execution_count": null,
   "id": "42b1ba1b",
   "metadata": {},
   "outputs": [],
   "source": [
    "commune_final_df['origine'] = 'sansloc'"
   ]
  },
  {
   "cell_type": "markdown",
   "id": "3822c14c",
   "metadata": {},
   "source": [
    "## Liage des communes de localisation (article dans une commune)\n",
    "\n",
    "Il s’agit des lieux à l’échelle infra-communale. Ces lieux sont localisés dans une commune (`localisationco`)\n",
    "…"
   ]
  },
  {
   "cell_type": "code",
   "execution_count": null,
   "id": "86bf1656",
   "metadata": {},
   "outputs": [],
   "source": [
    "# Liage des articles localisés dans une commune\n",
    "\n",
    "localisationco_df = df[df['localisationco'] != 'none']\n",
    "localisationco_df['dpt_code'] = localisationco_df['dpt_code'].apply(lambda x: 'DEP_' + str(x) if x != 'none' else x)\n",
    "localisationco_df.head(5)"
   ]
  },
  {
   "cell_type": "code",
   "execution_count": null,
   "id": "7ba2b453",
   "metadata": {},
   "outputs": [],
   "source": [
    "#On lie notre dataframe au référentiel insee avec de l'exact match.\n",
    "\n",
    "main_insee_commune = pd.read_csv(\"main_insee_commune.tsv\", delimiter='\\t')\n",
    "\n",
    "# on utilise merge pour le liage avec dpt_code et dep_id\n",
    "localisationco_merged_df = pd.merge(localisationco_df, main_insee_commune, left_on='dpt_code', right_on='DEP_id', how='left')\n",
    "\n",
    "# on sélectionne les lignes où la colonne 'localisationco' correspond à la colonne 'NCCENR' de main_insee_commune\n",
    "# exact match\n",
    "matching_rows = localisationco_merged_df.loc[localisationco_merged_df['localisationco'] == localisationco_merged_df['NCCENR']]\n",
    "\n",
    "# on crée une colonne 'insee_code' dans le dataframe localisationco_df avec les codes correspondants à partir de main_insee_commune\n",
    "localisationco_df['insee_code'] = localisationco_df.apply(lambda row: main_insee_commune.loc[main_insee_commune['NCCENR'] == row['localisationco']]['insee_code'].values[0] if len(main_insee_commune.loc[main_insee_commune['NCCENR'] == row['localisationco']]['insee_code'].values) > 0 else None, axis=1)\n",
    "localisationco_df['insee_code'] = localisationco_df['insee_code'].fillna('none')\n"
   ]
  },
  {
   "cell_type": "code",
   "execution_count": null,
   "id": "7cbde918",
   "metadata": {},
   "outputs": [],
   "source": [
    "localisationco_df.head(5)"
   ]
  },
  {
   "cell_type": "code",
   "execution_count": null,
   "id": "5f59e240",
   "metadata": {},
   "outputs": [],
   "source": [
    "# vérifier les localisationco_communes de localisation liées sur exact match\n",
    "\n",
    "localisationco_commune = localisationco_df[localisationco_df['insee_code'] != 'none']\n",
    "localisationco_commune.head(10)\n",
    "\n",
    "#on a donc exactement 556 matches."
   ]
  },
  {
   "cell_type": "code",
   "execution_count": null,
   "id": "6ee020cf",
   "metadata": {},
   "outputs": [],
   "source": [
    "print(localisationco_commune)"
   ]
  },
  {
   "cell_type": "code",
   "execution_count": null,
   "id": "eb730b95",
   "metadata": {},
   "outputs": [],
   "source": [
    "#modification de notre dataframe: ajout d'une colonne method qui nous permet d'identifier la méthode utilisée pour le\n",
    "#liage\n",
    "\n",
    "localisationco_commune['method'] = 'exact'\n",
    "# marquer les liages exécutés sans possibilité de désambiguiser le dpt (pour validation manuelle a posteriori)\n",
    "localisationco_commune.loc[localisationco_commune['dpt_code'] == 'none', 'method'] = 'nodpt'\n",
    "\n",
    "print(localisationco_commune)"
   ]
  },
  {
   "cell_type": "code",
   "execution_count": null,
   "id": "9ce0bd6c",
   "metadata": {},
   "outputs": [],
   "source": [
    "#les articles qui du coup n'ont pas de liage. on fera le fuzzy pour eux.\n",
    "\n",
    "localisationco_pascommune = localisationco_df.loc[localisationco_df['insee_code'] == 'none']\n",
    "print(localisationco_pascommune)\n",
    "\n",
    "#nous en avons donc 124."
   ]
  },
  {
   "cell_type": "code",
   "execution_count": null,
   "id": "f4181379",
   "metadata": {},
   "outputs": [],
   "source": [
    "# Définition d'une fonction pour le fuzzy join\n",
    "\n",
    "def fuzzy_join(row, distance):\n",
    "    # Filtre sur les lignes avec les mêmes départements\n",
    "    main_dep = main_insee_commune[main_insee_commune['DEP_id'] == row['dpt_code']]\n",
    "    # Calcul de la distance Levenshtein entre la vedette du localisationco_pascommune et les NCCENR de chaque ligne de main_dep\n",
    "    scores = main_dep['NCCENR'].apply(lambda x: fuzz.token_sort_ratio(x, row['vedette']))\n",
    "    # Récupération des lignes avec une distance Levenshtein inférieure ou égale à distance\n",
    "    filtered = main_dep[scores >= distance]\n",
    "    # Ajout de la colonne insee_code dans le dataframe localisationco_pascommune\n",
    "    if not filtered.empty:\n",
    "        insee_code = filtered['insee_code'].values[0]\n",
    "        if pd.isnull(insee_code):\n",
    "            return 'none'\n",
    "        else:\n",
    "            return insee_code\n",
    "    else:\n",
    "        return 'none'\n",
    "    \n",
    "# Application de la fonction sur chaque ligne du dataframe localisationco_pascommune\n",
    "localisationco_pascommune['insee_code'] = localisationco_pascommune.apply(fuzzy_join, distance=90, axis=1)"
   ]
  },
  {
   "cell_type": "code",
   "execution_count": null,
   "id": "afb2c144",
   "metadata": {},
   "outputs": [],
   "source": [
    "print(localisationco_pascommune)"
   ]
  },
  {
   "cell_type": "code",
   "execution_count": null,
   "id": "02cecaba",
   "metadata": {},
   "outputs": [],
   "source": [
    "#on veut savoir combien ont été joined par le fuzzy_localisationco\n",
    "\n",
    "fuzzy_localisationco = localisationco_pascommune[localisationco_pascommune['insee_code'] != 'none']\n",
    "\n",
    "# on ajoute une colonne method pour indiquer que le join a été réalisé par fuzzy_localisationco\n",
    "\n",
    "fuzzy_localisationco['method'] = 'fuzzy'\n",
    "\n",
    "\n",
    "print(fuzzy_localisationco)"
   ]
  },
  {
   "cell_type": "code",
   "execution_count": null,
   "id": "837427c2",
   "metadata": {},
   "outputs": [],
   "source": [
    "# maintenant, on s'intéresse aux localisationco qui n'ont toujours pas de liage.\n",
    "\n",
    "fuzzynull_localisationco = localisationco_pascommune[localisationco_pascommune['insee_code'] == 'none']\n",
    "\n",
    "#idem, on ajoute la méthode pour savoir que ces derniers n'ont été matchés ni avec le exact ni avec le fuzzy\n",
    "\n",
    "fuzzynull_localisationco['method'] = 'nulle'\n",
    "print(fuzzynull_localisationco)"
   ]
  },
  {
   "cell_type": "code",
   "execution_count": null,
   "id": "8e6bbe33",
   "metadata": {},
   "outputs": [],
   "source": [
    "#il faut maintenant concaténer nos 3 dataframes, en respectant l'ordre original des article_id\n",
    "\n",
    "localisationco_final_df = pd.concat([localisationco_commune, fuzzy_localisationco, fuzzynull_localisationco], axis=0)\n",
    "localisationco_final_df = localisationco_final_df.sort_values('method', ascending=True)\n",
    "\n",
    "print(localisationco_final_df)"
   ]
  },
  {
   "cell_type": "code",
   "execution_count": null,
   "id": "7d4ceb09",
   "metadata": {},
   "outputs": [],
   "source": [
    "localisationco_final_df['origine'] = 'avecloc'"
   ]
  },
  {
   "cell_type": "markdown",
   "id": "9d309ff6",
   "metadata": {},
   "source": [
    "## Fusion et ordonnancement des liages"
   ]
  },
  {
   "cell_type": "code",
   "execution_count": null,
   "id": "7be43db7",
   "metadata": {},
   "outputs": [],
   "source": [
    "# Créer une colonne de correspondance pour les deux dataframes\n",
    "commune_final_df['corresponding_value'] = commune_final_df['vedette']\n",
    "localisationco_final_df['corresponding_value'] = localisationco_final_df['localisationco']\n",
    "\n",
    "# Concaténer les deux dataframes\n",
    "merged_df = pd.concat([commune_final_df, localisationco_final_df], sort=False)\n",
    "\n",
    "# Trier les valeurs par ordre de la colonne \"corresponding_value\" puis par ordre de la colonne \"article_id\"\n",
    "merged_df.sort_values(by=['corresponding_value', 'article_id'], inplace=True)\n",
    "\n",
    "# Supprimer la colonne \"corresponding_value\"\n",
    "merged_df.drop(columns=['corresponding_value'], inplace=True)\n",
    "\n",
    "print(merged_df)"
   ]
  },
  {
   "cell_type": "code",
   "execution_count": null,
   "id": "e994f197",
   "metadata": {},
   "outputs": [],
   "source": [
    "merged_df = pd.merge(merged_df, main_insee_commune[['NCCENR', 'insee_code']], on='insee_code', how='left')\n",
    "merged_df['NCCENR'] = merged_df['NCCENR'].fillna('none')"
   ]
  },
  {
   "cell_type": "code",
   "execution_count": null,
   "id": "48d81cbc",
   "metadata": {},
   "outputs": [],
   "source": [
    "print(merged_df)"
   ]
  },
  {
   "cell_type": "code",
   "execution_count": null,
   "id": "1c332427",
   "metadata": {},
   "outputs": [],
   "source": [
    "method_counts = merged_df['method'].value_counts()\n",
    "print(method_counts)"
   ]
  },
  {
   "cell_type": "code",
   "execution_count": null,
   "id": "11255dfd",
   "metadata": {},
   "outputs": [],
   "source": [
    "origine_counts = merged_df['origine'].value_counts()\n",
    "print(origine_counts)"
   ]
  },
  {
   "cell_type": "code",
   "execution_count": null,
   "id": "64e05769",
   "metadata": {},
   "outputs": [],
   "source": [
    "# Sauvegarder le dataframe fusionné\n",
    "merged_df.to_csv('../../utils/liage_po7.csv', index=False)"
   ]
  }
 ],
 "metadata": {
  "kernelspec": {
   "display_name": "Python 3 (ipykernel)",
   "language": "python",
   "name": "python3"
  },
  "language_info": {
   "codemirror_mode": {
    "name": "ipython",
    "version": 3
   },
   "file_extension": ".py",
   "mimetype": "text/x-python",
   "name": "python",
   "nbconvert_exporter": "python",
   "pygments_lexer": "ipython3",
   "version": "3.9.7"
  }
 },
 "nbformat": 4,
 "nbformat_minor": 5
}
