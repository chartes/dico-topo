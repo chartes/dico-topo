{
 "cells": [
  {
   "cell_type": "code",
   "execution_count": null,
   "id": "76034a52",
   "metadata": {},
   "outputs": [],
   "source": [
    "import xml.etree.ElementTree as ET\n",
    "import pandas as pd\n",
    "\n",
    "# Charger le fichier XML\n",
    "tree = ET.parse('mon_fichier.xml')\n",
    "root = tree.getroot()\n",
    "\n",
    "# Charger le DataFrame\n",
    "df = pd.read_csv('mon_dataframe.csv')\n",
    "\n",
    "# Pour chaque article dans le XML\n",
    "for article in root.findall('article'):\n",
    "\n",
    "    # Récupérer l'article_id\n",
    "    article_id = article.get('old-id')\n",
    "\n",
    "    # Vérifier si l'article_id est présent dans le DataFrame\n",
    "    if article_id in df['article_id'].values:\n",
    "\n",
    "        # Récupérer la ligne correspondante dans le DataFrame\n",
    "        df_row = df.loc[df['article_id'] == article_id]\n",
    "\n",
    "        # Vérifier si localisationco est \"none\" et insee_code est présent\n",
    "        if df_row['localisationco'].values[0] == 'none' and pd.notnull(df_row['insee_code'].values[0]):\n",
    "\n",
    "            # Ajouter l'attribut type=\"commune\" à la balise article\n",
    "            article.set('type', 'commune')\n",
    "\n",
    "            # Ajouter la balise <insee> à la balise article avec le code INSEE\n",
    "            insee_code = df_row['insee_code'].values[0]\n",
    "            insee_elem = ET.Element('insee')\n",
    "            insee_elem.text = insee_code\n",
    "            article.append(insee_elem)\n",
    "\n",
    "        # Vérifier si localisationco est présent et insee_code est présent\n",
    "        elif pd.notnull(df_row['localisationco'].values[0]) and pd.notnull(df_row['insee_code'].values[0]):\n",
    "\n",
    "            # Ajouter le code INSEE à la balise <commune>\n",
    "            insee_code = df_row['insee_code'].values[0]\n",
    "            commune_elem = ET.Element('commune', insee=insee_code)\n",
    "            commune_elem.text = df_row['localisationco'].values[0]\n",
    "            \n",
    "            # Ajouter la balise <localisationco> à la balise article avec le code INSEE et le nom de la commune\n",
    "            loc_elem = ET.Element('localisationco')\n",
    "            loc_elem.append(commune_elem)\n",
    "            article.append(loc_elem)\n",
    "\n",
    "# Enregistrer le fichier XML modifié\n",
    "tree.write('mon_fichier_modifie.xml', encoding='UTF-8', xml_declaration=True)"
   ]
  }
 ],
 "metadata": {
  "kernelspec": {
   "display_name": "Python 3 (ipykernel)",
   "language": "python",
   "name": "python3"
  },
  "language_info": {
   "codemirror_mode": {
    "name": "ipython",
    "version": 3
   },
   "file_extension": ".py",
   "mimetype": "text/x-python",
   "name": "python",
   "nbconvert_exporter": "python",
   "pygments_lexer": "ipython3",
   "version": "3.9.7"
  }
 },
 "nbformat": 4,
 "nbformat_minor": 5
}
