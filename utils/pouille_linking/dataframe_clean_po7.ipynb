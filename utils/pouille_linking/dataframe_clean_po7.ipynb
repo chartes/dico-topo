{
 "cells": [
  {
   "cell_type": "code",
   "execution_count": 6,
   "id": "c1e6ee92",
   "metadata": {},
   "outputs": [],
   "source": [
    "import pandas as pd\n",
    "from lxml import etree\n",
    "import re\n",
    "from thefuzz import fuzz\n",
    "import numpy as np"
   ]
  },
  {
   "cell_type": "code",
   "execution_count": 9,
   "id": "a214abac",
   "metadata": {},
   "outputs": [],
   "source": [
    "# lire les deux dataframes\n",
    "df1 = pd.read_csv('/Users/margotpascual/Documents/ENC/liage/dataframes/dataframe_sansloc_po7.csv')\n",
    "df2 = pd.read_csv('/Users/margotpascual/Documents/ENC/liage/dataframes/dataframe_avecloc_po7.csv')"
   ]
  },
  {
   "cell_type": "code",
   "execution_count": 10,
   "id": "1833bf48",
   "metadata": {},
   "outputs": [],
   "source": [
    "# Créer une colonne de correspondance pour les deux dataframes\n",
    "df1['corresponding_value'] = df1['vedette']\n",
    "df2['corresponding_value'] = df2['localisationco']\n",
    "\n",
    "# Concaténer les deux dataframes\n",
    "merged_df = pd.concat([df1, df2], sort=False)\n",
    "\n",
    "# Trier les valeurs par ordre de la colonne \"corresponding_value\" puis par ordre de la colonne \"article_id\"\n",
    "merged_df.sort_values(by=['corresponding_value', 'article_id'], inplace=True)\n",
    "\n",
    "# Supprimer la colonne \"corresponding_value\"\n",
    "merged_df.drop(columns=['corresponding_value'], inplace=True)\n",
    "\n",
    "# Sauvegarder le dataframe fusionné\n",
    "merged_df.to_csv('/Users/margotpascual/Documents/ENC/liage/dataframes/merged_df.csv', index=False)"
   ]
  },
  {
   "cell_type": "code",
   "execution_count": 11,
   "id": "71b3156f",
   "metadata": {},
   "outputs": [
    {
     "name": "stdout",
     "output_type": "stream",
     "text": [
      "     article_id          vedette localisationde dpt_code      canton_code  \\\n",
      "419   PO7-01925        Lieu-Dieu          Doubs   DEP_25       Boussières   \n",
      "0     PO7-00009         Abbenans          Doubs   DEP_25        Rougemont   \n",
      "2298  PO7-00010      Abbevillers          Doubs   DEP_25     Hérimoncourt   \n",
      "1550  PO7-00011        Aboncourt    Haute-Saône   DEP_70  Combeaufontaine   \n",
      "1551  PO7-00012        Abondance   Haute-Savoie   DEP_74             none   \n",
      "...         ...              ...            ...      ...              ...   \n",
      "2075  PO7-01339             Étuz    Haute-Saône   DEP_70           Marnay   \n",
      "2077  PO7-01341            Évans           Jura   DEP_39        Dampierre   \n",
      "2078  PO7-01342  Évian-les-Bains   Haute-Savoie   DEP_74             none   \n",
      "2079  PO7-01343           Évires   Haute-Savoie   DEP_74          Thorens   \n",
      "2081  PO7-01344          Évosges            Ain   DEP_01    Saint-Rambert   \n",
      "\n",
      "      localisationco insee_code method  origine  \n",
      "419   Abbans-Dessous      25001  exact  avecloc  \n",
      "0               none      25003  exact  sansloc  \n",
      "2298            none      25004  fuzzy  sansloc  \n",
      "1550            none      54003  exact  sansloc  \n",
      "1551            none      74001  exact  sansloc  \n",
      "...              ...        ...    ...      ...  \n",
      "2075            none      70224  exact  sansloc  \n",
      "2077            none      39219  exact  sansloc  \n",
      "2078            none      74119  exact  sansloc  \n",
      "2079            none      74120  exact  sansloc  \n",
      "2081            none      01155  exact  sansloc  \n",
      "\n",
      "[3428 rows x 9 columns]\n"
     ]
    }
   ],
   "source": [
    "print(merged_df)"
   ]
  },
  {
   "cell_type": "code",
   "execution_count": 12,
   "id": "8446d515",
   "metadata": {},
   "outputs": [],
   "source": [
    "merged_df.to_csv('dataframe_clean_po7.csv', index=False)"
   ]
  }
 ],
 "metadata": {
  "kernelspec": {
   "display_name": "Python 3 (ipykernel)",
   "language": "python",
   "name": "python3"
  },
  "language_info": {
   "codemirror_mode": {
    "name": "ipython",
    "version": 3
   },
   "file_extension": ".py",
   "mimetype": "text/x-python",
   "name": "python",
   "nbconvert_exporter": "python",
   "pygments_lexer": "ipython3",
   "version": "3.9.7"
  }
 },
 "nbformat": 4,
 "nbformat_minor": 5
}
