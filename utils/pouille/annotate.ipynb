{
 "cells": [
  {
   "cell_type": "markdown",
   "id": "085a8f77",
   "metadata": {},
   "source": [
    "## Réinjection des données de liage dans le fichier XML"
   ]
  },
  {
   "cell_type": "code",
   "execution_count": null,
   "id": "d1c1e91e",
   "metadata": {},
   "outputs": [],
   "source": [
    "# Utilitaire de conversion\n",
    "'''\n",
    "import pandas as pd\n",
    "\n",
    "# Chemin vers le fichier ODS\n",
    "chemin_fichier_ods = '../../utils/pouille/out/linking_out/liage_po7.ods'\n",
    "\n",
    "# Lire le fichier ODS en utilisant pandas\n",
    "dataframe = pd.read_excel(chemin_fichier_ods, engine='odf')\n",
    "\n",
    "# Chemin vers le fichier CSV de sortie\n",
    "chemin_fichier_csv = '../../utils/pouille/out/linking_out/liage_po7.csv'\n",
    "\n",
    "# Enregistrer le dataframe en tant que fichier CSV en conservant les noms des colonnes\n",
    "dataframe.to_csv(chemin_fichier_csv, index=False)\n",
    "'''"
   ]
  },
  {
   "cell_type": "code",
   "execution_count": null,
   "id": "590d5ec0",
   "metadata": {},
   "outputs": [],
   "source": [
    "import pandas as pd\n",
    "from lxml import etree as ET\n",
    "\n",
    "# Charger le fichier XML\n",
    "tree = ET.parse('../../data/PO_t7/PO_t7.xml')\n",
    "root = tree.getroot()\n",
    "\n",
    "# Charger le DataFrame\n",
    "df = pd.read_csv('../../utils/pouille/out/linking_out/liage_po7.csv', dtype=str)\n",
    "\n",
    "# Pour chaque article dans le XML\n",
    "for article in root.findall('article'):\n",
    "    # Récupérer l'article_id\n",
    "    article_id = article.get('old-id')\n",
    "\n",
    "    # Vérifier si l'article_id est présent dans le DataFrame\n",
    "    if article_id in df['article_id'].values:\n",
    "        # Récupérer la ligne correspondante dans le DataFrame\n",
    "        df_row = df.loc[df['article_id'] == article_id]\n",
    "\n",
    "        # Vérifier si localisationco est \"none\" et insee_code est présent\n",
    "        if df_row['localisationco'].values[0] == 'none' and pd.notnull(df_row['insee_code'].values[0]):\n",
    "            # Ajouter l'attribut type=\"commune\" à la balise article\n",
    "            article.set('type', 'commune')\n",
    "\n",
    "            # Ajouter la balise <insee> à la balise article avec le code INSEE\n",
    "            insee_code = df_row['insee_code'].values[0]\n",
    "            insee_elem = ET.Element('insee')\n",
    "            insee_elem.text = insee_code\n",
    "            article.append(insee_elem)\n",
    "\n",
    "        # Vérifier si localisationco est présent et insee_code est présent\n",
    "        if pd.notnull(df_row['localisationco'].values[0]) and pd.notnull(df_row['insee_code'].values[0]):\n",
    "            loc_elem = article.find('localisationco')\n",
    "            if loc_elem is not None:\n",
    "                search_str = ET.tostring(loc_elem, encoding='unicode')\n",
    "                insee_code = df.loc[df['article_id'] == article_id, 'insee_code'].values[0]\n",
    "                corresponding_row = df.loc[df['article_id'] == article_id]\n",
    "                localisationco = corresponding_row['localisationco'].values[0]\n",
    "                replaced_str = search_str.replace(localisationco, f'<commune insee=\"{insee_code}\">{localisationco}</commune>')\n",
    "                new_loc_elem = ET.fromstring(replaced_str)\n",
    "                article.replace(loc_elem, new_loc_elem)\n",
    "\n",
    "# Enregistrer le fichier XML modifié\n",
    "tree.write('../../utils/pouille/out/linking_out/PO_t7_modified.xml', encoding='utf-8', xml_declaration=True)\n"
   ]
  }
 ],
 "metadata": {
  "kernelspec": {
   "display_name": "Python 3 (ipykernel)",
   "language": "python",
   "name": "python3"
  },
  "language_info": {
   "codemirror_mode": {
    "name": "ipython",
    "version": 3
   },
   "file_extension": ".py",
   "mimetype": "text/x-python",
   "name": "python",
   "nbconvert_exporter": "python",
   "pygments_lexer": "ipython3",
   "version": "3.9.7"
  }
 },
 "nbformat": 4,
 "nbformat_minor": 5
}
